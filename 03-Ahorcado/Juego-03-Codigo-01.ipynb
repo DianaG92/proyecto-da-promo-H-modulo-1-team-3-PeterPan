{
 "cells": [
  {
   "cell_type": "markdown",
   "metadata": {},
   "source": [
    "Que empieze el juego de EL AHORCADO !"
   ]
  },
  {
   "cell_type": "code",
   "execution_count": 10,
   "metadata": {},
   "outputs": [],
   "source": [
    "import random\n",
    "palabra_adivinar=[]\n",
    "palabras_aleatorias = [\n",
    "    \"perro\", \"gato\", \"casa\", \"coche\", \"mesa\", \"silla\", \"libro\", \"computadora\", \"teléfono\", \"planta\",\n",
    "    \"árbol\", \"ciudad\", \"lápiz\", \"bolígrafo\", \"televisión\", \"pared\", \"puerta\", \"ventana\", \"reloj\", \"manzana\",\n",
    "    \"banana\", \"naranja\", \"limón\", \"sandía\", \"fresa\", \"uva\", \"kiwi\", \"melón\", \"piña\", \"papaya\",\n",
    "    \"nube\", \"sol\", \"luna\", \"estrella\", \"mar\", \"océano\", \"río\", \"lago\", \"montaña\", \"colina\",\n",
    "    \"valle\", \"pradera\", \"desierto\", \"playa\", \"arena\", \"roca\", \"nieve\", \"hielo\", \"fuego\", \"viento\"\n",
    "]\n"
   ]
  },
  {
   "cell_type": "code",
   "execution_count": 13,
   "metadata": {},
   "outputs": [
    {
     "name": "stdout",
     "output_type": "stream",
     "text": [
      "Bienvenido al juego del ahorcado\n",
      "el juego consiste en adivinar la palabra oculta letra a letra\n",
      "Estas son las letras ocultas de la palabra _ _ _ \n"
     ]
    }
   ],
   "source": [
    "print (\"Bienvenido al juego del ahorcado\")\n",
    "\n",
    "print (\"el juego consiste en adivinar la palabra oculta letra a letra\")\n",
    "\n",
    "palabra =random.choice(palabras_aleatorias).lower()\n",
    "\n",
    "palabra_adivinar=\"_ \"*len(palabra)\n",
    "print(\"Estas son las letras ocultas de la palabra\", palabra_adivinar)\n",
    "\n",
    "letra=input(\"Introduce una letra a ver si esta en la palabra\")\n",
    "\n"
   ]
  }
 ],
 "metadata": {
  "kernelspec": {
   "display_name": "base",
   "language": "python",
   "name": "python3"
  },
  "language_info": {
   "codemirror_mode": {
    "name": "ipython",
    "version": 3
   },
   "file_extension": ".py",
   "mimetype": "text/x-python",
   "name": "python",
   "nbconvert_exporter": "python",
   "pygments_lexer": "ipython3",
   "version": "3.9.7"
  }
 },
 "nbformat": 4,
 "nbformat_minor": 2
}
