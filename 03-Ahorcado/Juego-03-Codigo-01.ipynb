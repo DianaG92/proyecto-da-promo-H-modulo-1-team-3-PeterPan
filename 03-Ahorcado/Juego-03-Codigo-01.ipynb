{
 "cells": [
  {
   "cell_type": "markdown",
   "metadata": {},
   "source": [
    "Que empieze el juego de EL AHORCADO !"
   ]
  },
  {
   "cell_type": "code",
   "execution_count": 32,
   "metadata": {},
   "outputs": [],
   "source": [
    "import random\n",
    "palabra_adivinar=[]\n",
    "palabras_aleatorias = [\n",
    "    \"perro\", \"gato\", \"casa\", \"coche\", \"mesa\", \"silla\", \"libro\", \"computadora\", \"teléfono\", \"planta\",\n",
    "    \"árbol\", \"ciudad\", \"lápiz\", \"bolígrafo\", \"televisión\", \"pared\", \"puerta\", \"ventana\", \"reloj\", \"manzana\",\n",
    "    \"banana\", \"naranja\", \"limón\", \"sandía\", \"fresa\", \"uva\", \"kiwi\", \"melón\", \"piña\", \"papaya\",\n",
    "    \"nube\", \"sol\", \"luna\", \"estrella\", \"mar\", \"océano\", \"río\", \"lago\", \"montaña\", \"colina\",\n",
    "    \"valle\", \"pradera\", \"desierto\", \"playa\", \"arena\", \"roca\", \"nieve\", \"hielo\", \"fuego\", \"viento\"\n",
    "]\n"
   ]
  },
  {
   "cell_type": "code",
   "execution_count": 33,
   "metadata": {},
   "outputs": [
    {
     "name": "stdout",
     "output_type": "stream",
     "text": [
      "Bienvenido al juego del ahorcado\n",
      "el juego consiste en adivinar la palabra oculta letra a letra\n",
      "piña\n"
     ]
    },
    {
     "ename": "IndexError",
     "evalue": "list assignment index out of range",
     "output_type": "error",
     "traceback": [
      "\u001b[0;31m---------------------------------------------------------------------------\u001b[0m",
      "\u001b[0;31mIndexError\u001b[0m                                Traceback (most recent call last)",
      "\u001b[0;32m/tmp/ipykernel_2216/1382708122.py\u001b[0m in \u001b[0;36m<module>\u001b[0;34m\u001b[0m\n\u001b[1;32m      8\u001b[0m \u001b[0mlongitud\u001b[0m\u001b[0;34m=\u001b[0m\u001b[0mlen\u001b[0m\u001b[0;34m(\u001b[0m\u001b[0mlista_palabra\u001b[0m\u001b[0;34m)\u001b[0m\u001b[0;34m\u001b[0m\u001b[0;34m\u001b[0m\u001b[0m\n\u001b[1;32m      9\u001b[0m \u001b[0;32mfor\u001b[0m \u001b[0mi\u001b[0m \u001b[0;32min\u001b[0m \u001b[0mrange\u001b[0m\u001b[0;34m(\u001b[0m\u001b[0mlongitud\u001b[0m\u001b[0;34m-\u001b[0m\u001b[0;36m1\u001b[0m\u001b[0;34m)\u001b[0m\u001b[0;34m:\u001b[0m\u001b[0;34m\u001b[0m\u001b[0;34m\u001b[0m\u001b[0m\n\u001b[0;32m---> 10\u001b[0;31m     \u001b[0mpalabra_adivinar\u001b[0m\u001b[0;34m[\u001b[0m\u001b[0mi\u001b[0m\u001b[0;34m]\u001b[0m\u001b[0;34m=\u001b[0m\u001b[0;34m\"_\"\u001b[0m\u001b[0;34m\u001b[0m\u001b[0;34m\u001b[0m\u001b[0m\n\u001b[0m\u001b[1;32m     11\u001b[0m \u001b[0;34m\u001b[0m\u001b[0m\n\u001b[1;32m     12\u001b[0m \u001b[0;31m#palabra_adivinar =\"_ \"*len(palabra)\u001b[0m\u001b[0;34m\u001b[0m\u001b[0;34m\u001b[0m\u001b[0m\n",
      "\u001b[0;31mIndexError\u001b[0m: list assignment index out of range"
     ]
    }
   ],
   "source": [
    "print (\"Bienvenido al juego del ahorcado\")\n",
    "\n",
    "print (\"el juego consiste en adivinar la palabra oculta letra a letra\")\n",
    "\n",
    "palabra =random.choice(palabras_aleatorias).lower()\n",
    "print(palabra)\n",
    "lista_palabra=list(palabra)\n",
    "longitud=len(lista_palabra)\n",
    "for i in range(longitud-1):\n",
    "    palabra_adivinar[i]=\"_\"\n",
    "\n",
    "\n",
    "print(\"Estas son las letras ocultas de la palabra\", palabra_adivinar)\n",
    "\n",
    "letra=input(\"Introduce una letra a ver si esta en la palabra\")\n",
    "\n",
    "\n",
    "\n",
    "#for i in lista_palabra:\n",
    "    #if letra.lower()==lista_palabra[i]:\n",
    "        \n"
   ]
  }
 ],
 "metadata": {
  "kernelspec": {
   "display_name": "base",
   "language": "python",
   "name": "python3"
  },
  "language_info": {
   "codemirror_mode": {
    "name": "ipython",
    "version": 3
   },
   "file_extension": ".py",
   "mimetype": "text/x-python",
   "name": "python",
   "nbconvert_exporter": "python",
   "pygments_lexer": "ipython3",
   "version": "3.9.7"
  }
 },
 "nbformat": 4,
 "nbformat_minor": 2
}
