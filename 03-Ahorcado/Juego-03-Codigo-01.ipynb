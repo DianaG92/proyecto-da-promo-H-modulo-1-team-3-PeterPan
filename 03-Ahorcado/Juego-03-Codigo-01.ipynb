{
 "cells": [
  {
   "cell_type": "markdown",
   "metadata": {},
   "source": [
    "Que empieze el juego de EL AHORCADO !"
   ]
  },
  {
   "cell_type": "code",
   "execution_count": 14,
   "metadata": {},
   "outputs": [],
   "source": [
    "import random\n",
    "intentos=3\n",
    "acierto=False\n",
    "palabra_adivinar=[]\n",
    "letra_usada=[]\n",
    "palabras_aleatorias = [\n",
    "    \"perro\", \"gato\", \"casa\", \"coche\", \"mesa\", \"silla\", \"libro\", \"computadora\", \"teléfono\", \"planta\",\n",
    "    \"árbol\", \"ciudad\", \"lápiz\", \"bolígrafo\", \"televisión\", \"pared\", \"puerta\", \"ventana\", \"reloj\", \"manzana\",\n",
    "    \"banana\", \"naranja\", \"limón\", \"sandía\", \"fresa\", \"uva\", \"kiwi\", \"melón\", \"piña\", \"papaya\",\n",
    "    \"nube\", \"sol\", \"luna\", \"estrella\", \"mar\", \"océano\", \"río\", \"lago\", \"montaña\", \"colina\",\n",
    "    \"valle\", \"pradera\", \"desierto\", \"playa\", \"arena\", \"roca\", \"nieve\", \"hielo\", \"fuego\", \"viento\"\n",
    "]\n"
   ]
  },
  {
   "cell_type": "code",
   "execution_count": null,
   "metadata": {},
   "outputs": [],
   "source": [
    "print (\"Bienvenido al juego del ahorcado\")\n",
    "\n",
    "print (\"el juego consiste en adivinar la palabra oculta letra a letra\")\n",
    "\n",
    "palabra_aleatoria =random.choice(palabras_aleatorias).lower()\n",
    "\n",
    "palabra_guiones=\"_ \"*len(palabra_aleatoria)\n",
    "\n",
    "\n",
    "\n",
    "\"\"\"print(\"Estas son las letras ocultas de la palabra  \", palabra_adivinar)\n",
    "\n",
    "print(palabra_aleatoria)\n",
    "while intentos <= 3 and acierto==False:\n",
    "    \n",
    "    \n",
    "    letra=input(\"Introduce una letra a ver si esta en la palabra\")\n",
    "    \n",
    "    letra_usada.append(letra)\n",
    "    \n",
    "    lista_palabra=list(palabra_aleatoria)\n",
    "    \n",
    "    \n",
    "    if letra in lista_palabra:\n",
    "        print(\"has acertado\")\n",
    "      \n",
    "        \n",
    "    else:\n",
    "        print(\"No has acertado\")\n",
    "        intentos-=1\n",
    "\"\"\"\n",
    "       \n",
    "\n",
    "\n",
    "\n"
   ]
  },
  {
   "cell_type": "code",
   "execution_count": 13,
   "metadata": {},
   "outputs": [
    {
     "ename": "NameError",
     "evalue": "name 'palabra_guiones' is not defined",
     "output_type": "error",
     "traceback": [
      "\u001b[0;31m---------------------------------------------------------------------------\u001b[0m",
      "\u001b[0;31mNameError\u001b[0m                                 Traceback (most recent call last)",
      "\u001b[0;32m/tmp/ipykernel_16271/1348641724.py\u001b[0m in \u001b[0;36m<module>\u001b[0;34m\u001b[0m\n\u001b[0;32m----> 1\u001b[0;31m \u001b[0mprint\u001b[0m\u001b[0;34m(\u001b[0m\u001b[0mtype\u001b[0m\u001b[0;34m(\u001b[0m\u001b[0mpalabra_guiones\u001b[0m\u001b[0;34m)\u001b[0m\u001b[0;34m)\u001b[0m\u001b[0;34m\u001b[0m\u001b[0;34m\u001b[0m\u001b[0m\n\u001b[0m",
      "\u001b[0;31mNameError\u001b[0m: name 'palabra_guiones' is not defined"
     ]
    }
   ],
   "source": [
    "print(type(palabra_guiones))"
   ]
  }
 ],
 "metadata": {
  "kernelspec": {
   "display_name": "base",
   "language": "python",
   "name": "python3"
  },
  "language_info": {
   "codemirror_mode": {
    "name": "ipython",
    "version": 3
   },
   "file_extension": ".py",
   "mimetype": "text/x-python",
   "name": "python",
   "nbconvert_exporter": "python",
   "pygments_lexer": "ipython3",
   "version": "3.9.7"
  }
 },
 "nbformat": 4,
 "nbformat_minor": 2
}
