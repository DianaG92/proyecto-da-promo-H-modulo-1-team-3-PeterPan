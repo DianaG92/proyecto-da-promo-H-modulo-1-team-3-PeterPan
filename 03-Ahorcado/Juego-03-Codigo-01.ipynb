{
 "cells": [
  {
   "cell_type": "markdown",
   "metadata": {},
   "source": [
    "Que empieze el juego de EL AHORCADO !"
   ]
  },
  {
   "cell_type": "code",
   "execution_count": null,
   "metadata": {},
   "outputs": [],
   "source": [
    "import random\n",
    "palabra_adivinar=[]\n",
    "palabras_aleatorias = [\n",
    "    \"perro\", \"gato\", \"casa\", \"coche\", \"mesa\", \"silla\", \"libro\", \"computadora\", \"teléfono\", \"planta\",\n",
    "    \"árbol\", \"ciudad\", \"lápiz\", \"bolígrafo\", \"televisión\", \"pared\", \"puerta\", \"ventana\", \"reloj\", \"manzana\",\n",
    "    \"banana\", \"naranja\", \"limón\", \"sandía\", \"fresa\", \"uva\", \"kiwi\", \"melón\", \"piña\", \"papaya\",\n",
    "    \"nube\", \"sol\", \"luna\", \"estrella\", \"mar\", \"océano\", \"río\", \"lago\", \"montaña\", \"colina\",\n",
    "    \"valle\", \"pradera\", \"desierto\", \"playa\", \"arena\", \"roca\", \"nieve\", \"hielo\", \"fuego\", \"viento\"\n",
    "]\n"
   ]
  },
  {
   "cell_type": "code",
   "execution_count": null,
   "metadata": {},
   "outputs": [],
   "source": [
    "print (\"Bienvenido al juego del ahorcado\")\n",
    "\n",
    "print (\"el juego consiste en adivinar la palabra oculta letra a letra\")\n",
    "\n",
    "palabra =random.choice(palabras_aleatorias).lower()\n",
    "print(palabra)\n",
    "lista_palabra=list(palabra)\n",
    "longitud=len(lista_palabra)\n",
    "for i in range(longitud-1):\n",
    "    palabra_adivinar[i]=\"_\"\n",
    "\n",
    "\n",
    "print(\"Estas son las letras ocultas de la palabra\", palabra_adivinar)\n",
    "\n",
    "letra=input(\"Introduce una letra a ver si esta en la palabra\")\n",
    "\n",
    "\n",
    "\n",
    "#for i in lista_palabra:\n",
    "    #if letra.lower()==lista_palabra[i]:"
   ]
  }
 ],
 "metadata": {
  "kernelspec": {
   "display_name": "base",
   "language": "python",
   "name": "python3"
  },
  "language_info": {
   "name": "python",
   "version": "3.9.7"
  }
 },
 "nbformat": 4,
 "nbformat_minor": 2
}
