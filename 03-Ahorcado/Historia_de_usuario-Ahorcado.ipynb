{
 "cells": [
  {
   "cell_type": "markdown",
   "metadata": {},
   "source": [
    "# AHORCADO\n",
    "\n",
    "## DESCRIPCIÓN:\n",
    "- \n",
    "## REGLAS DEL JUEGO:\n",
    "- \n",
    "\n",
    "## CRITERIOS DE ACEPTACIÓN:\n",
    "- \n",
    "\n",
    "## EXTRAS:\n",
    "- "
   ]
  }
 ],
 "metadata": {
  "language_info": {
   "name": "python"
  }
 },
 "nbformat": 4,
 "nbformat_minor": 2
}
