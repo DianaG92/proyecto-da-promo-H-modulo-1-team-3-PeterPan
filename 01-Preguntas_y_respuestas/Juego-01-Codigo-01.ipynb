{
 "cells": [
  {
   "cell_type": "markdown",
   "metadata": {},
   "source": [
    "Que empieze el juego de PREGUNTAS Y RESPUESTAS !"
   ]
  }
 ],
 "metadata": {
  "language_info": {
   "name": "python"
  }
 },
 "nbformat": 4,
 "nbformat_minor": 2
}
