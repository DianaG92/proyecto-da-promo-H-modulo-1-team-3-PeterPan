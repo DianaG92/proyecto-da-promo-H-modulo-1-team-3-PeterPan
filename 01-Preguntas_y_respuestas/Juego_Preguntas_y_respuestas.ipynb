{
 "cells": [
  {
   "cell_type": "code",
   "execution_count": 35,
   "metadata": {},
   "outputs": [],
   "source": [
    "import random\n",
    "# variables juego:\n",
    "\n",
    "intentos_juego = 3\n",
    "acertadas = 0\n",
    "\n",
    "listado_preguntas =  {\"¿Cuál es el río más largo de la Península Ibérica? a) Tajo b) Guadiana c) Ebro\" : \"a\",\n",
    " \"¿Cuál es el país más pequeño del mundo? a) Francia b) Portugal c) El Vaticano\" : \"c\", \n",
    " \"¿Cuántos océanos hay en la Tierra?  a) Cuatro b) Cinco c) Tres\" : \"b\",\n",
    " \"¿Qué país tiene más habitantes? a) España b) Austria c) China\" : \"c\",\n",
    " \"¿Qué país es el más grande del mundo? a) Rusia b) Hungría c) Italia.\" : \"a\",\n",
    " \"¿Cuál es la montaña más alta del mundo? a) Everest b) Kilimanjaro c) Teide\" : \"a\",\n",
    " \"¿Cuál es el río más largo del mundo? a) Nilo b) Amazonas c) Támesis\" : \"a\",\n",
    " \"¿Cuál es la capital de Francia?  a) Roma b) París c) Londres\" : \"b\",\n",
    " \"¿Dónde podemos ver las auroras boreales?  a) Finlandia b) Suiza c) Dinamarca\" : \"a\",\n",
    " \"¿Cuál es la capital de España? a) Barcelona b) Sevilla c) Madrid\" : \"c\"}"
   ]
  },
  {
   "cell_type": "code",
   "execution_count": 39,
   "metadata": {},
   "outputs": [],
   "source": [
    "while intentos_juego > 0 and acertadas < 5:\n",
    "    \n",
    "    pregunta = random.choice(list(listado_preguntas.keys()))\n",
    "    respuesta = input(pregunta)\n",
    "    \n",
    "       \n",
    "    if respuesta == listado_preguntas.get(pregunta):\n",
    "        acertadas +=1\n",
    "        print(\"Has acertado la pregunta. Sigue jugando\")\n",
    "        listado_preguntas.pop(pregunta)\n",
    "        if acertadas ==5:\n",
    "            print(\"Felicidades!!!, has ganado el juego\")\n",
    "    \n",
    "    else:\n",
    "        intentos_juego -= 1\n",
    "        if intentos_juego !=0:      \n",
    "            print(\"Has fallado la pregunta, suerte la proxima vez\")\n",
    "        else:\n",
    "            print(\"Te has quedado sin intentos\")"
   ]
  }
 ],
 "metadata": {
  "kernelspec": {
   "display_name": "base",
   "language": "python",
   "name": "python3"
  },
  "language_info": {
   "codemirror_mode": {
    "name": "ipython",
    "version": 3
   },
   "file_extension": ".py",
   "mimetype": "text/x-python",
   "name": "python",
   "nbconvert_exporter": "python",
   "pygments_lexer": "ipython3",
   "version": "3.9.7"
  }
 },
 "nbformat": 4,
 "nbformat_minor": 2
}
