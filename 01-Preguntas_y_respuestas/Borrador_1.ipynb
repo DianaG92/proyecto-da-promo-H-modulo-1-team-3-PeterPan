{
 "cells": [
  {
   "cell_type": "markdown",
   "metadata": {},
   "source": [
    "#### PREGUNTAS Y RESPUESTAS\n",
    "\n",
    "Reglas del Juego de \"Preguntas y Respuestas de Geografía\":\n",
    "-\tEl juego va a constar de 10 preguntas aleatorias.\n",
    "\n",
    "-\tCada pregunta tendrá tres opciones de respuesta (a, b, c).\n",
    "\n",
    "-\tEl jugador tendrá un único intento por cada pregunta.\n",
    "\n",
    "-\tSi acierta (“Sigue jugando”), si falla (“Vamos descontando oportunidades”).\n",
    "\n",
    "\n",
    "PREGUNTAS\n",
    "\n",
    "1. ¿Cuál es el río más largo de la Península Ibérica?\n",
    "   - a) Tajo.\n",
    "   - b) Guadiana.\n",
    "   - c) Ebro.\n",
    "2. ¿Cuál es el país más pequeño del mundo?\n",
    "   - a) Francia.\n",
    "   - b) Portugal.\n",
    "   - c) El Vaticano.\n",
    "3. ¿Cuántos océanos hay en la Tierra?\n",
    "   - a) Cuatro.\n",
    "   - b) Cinco.\n",
    "   - c) Tres.\n",
    "4. ¿Qué país tiene más habitantes?\n",
    "   - a) España.\n",
    "   - b) Austria.\n",
    "   - c) China.\n",
    "5. ¿Qué país es el más grande del mundo?\n",
    "   - a) Rusia.\n",
    "   - b) Hungría.\n",
    "   - c) Italia.\n",
    "6. ¿Cuál es la montaña más alta del mundo?\n",
    "   - a) Everest.\n",
    "   - b) Kilimanjaro.\n",
    "   - c) Teide.\n",
    "7. ¿Cuál es el río más largo del mundo?\n",
    "   - a) Nilo.\n",
    "   - b) Amazonas.\n",
    "   - c) Támesis.\n",
    "8. ¿Cuál es la capital de Francia?\n",
    "   - a) Roma.\n",
    "   - b) París.\n",
    "   - c) Londres.\n",
    "9. ¿Dónde podemos ver las auroras boreales?\n",
    "   - a) Finlandia.\n",
    "   - b) Suiza.\n",
    "   - c) Dinamarca.\n",
    "1. ¿Cuál es la capital de España?\n",
    "   - a) Barcelona.\n",
    "   - b) Sevilla.\n",
    "   - c) Madrid."
   ]
  },
  {
   "cell_type": "markdown",
   "metadata": {},
   "source": [
    "#### ESTRUCTURA DEL PROGRAMA\n",
    "\n",
    "- Función random choice.\n",
    "- Método para saber si la respuesta es correcta:\n",
    "valor in diccionario.values()\n",
    "- Definir un diccionario donde la clave sea la pregunta y en el value, estén todas las respuestas (incluida la correcta).\n",
    "- Definir un diccionario donde la clave es la pregunta con las tres opciones y el value, correspondería a la respuesta correcta.\n"
   ]
  }
 ],
 "metadata": {
  "kernelspec": {
   "display_name": "Python 3",
   "language": "python",
   "name": "python3"
  },
  "language_info": {
   "name": "python",
   "version": "3.11.9"
  }
 },
 "nbformat": 4,
 "nbformat_minor": 2
}
