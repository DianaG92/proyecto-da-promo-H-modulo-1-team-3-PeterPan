{
 "cells": [
  {
   "cell_type": "markdown",
   "metadata": {},
   "source": [
    "#### PREGUNTAS Y RESPUESTAS\n",
    "\n",
    "Reglas del Juego de \"Preguntas y Respuestas de Geografía\":\n",
    "-\tEl juego va a constar de 10 preguntas aleatorias.\n",
    "\n",
    "-\tEl jugador tendrá dos intentos por cada pregunta.\n",
    "\n",
    "-\tSi acierta (“Sigue jugando”), si falla (“Vamos descontando oportunidades”).\n",
    "\n",
    "\n",
    "PREGUNTAS\n",
    "\n",
    "1. ¿Cuál es el río más largo de la Península Ibérica?\n",
    "   - El Tajo.\n",
    "2. ¿Cuál es el país más pequeño del mundo?\n",
    "   - El Vaticano, en Italia.\n",
    "3. ¿Cuántos océanos hay en la Tierra?\n",
    "   - Son 5, el Pacífico, el Atlántico, el Índico, el Antártico y el Ártico.\n",
    "4. ¿Qué país tiene más habitantes?\n",
    "   - China.\n",
    "5. ¿Qué país es el más grande del mundo?\n",
    "   - Rusia.\n",
    "6. ¿Cuál es la montaña más alta del mundo?\n",
    "   - El Everest.\n",
    "7. ¿Cuál es el río más largo del mundo?\n",
    "   - El Nilo.\n",
    "8. ¿De dónde provienen los osos polares?\n",
    "   - Del Polo Norte.\n",
    "9. ¿Dónde podemos ver las auroras boreales?\n",
    "   - En Finlandia.\n",
    "1. ¿Cuál es la capital de España?\n",
    "   - Madrid."
   ]
  }
 ],
 "metadata": {
  "language_info": {
   "name": "python"
  }
 },
 "nbformat": 4,
 "nbformat_minor": 2
}
