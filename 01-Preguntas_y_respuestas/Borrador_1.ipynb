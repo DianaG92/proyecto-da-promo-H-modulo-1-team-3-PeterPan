{
 "cells": [
  {
   "cell_type": "markdown",
   "metadata": {},
   "source": [
    "#### PREGUNTAS Y RESPUESTAS\n",
    "\n",
    "Reglas del Juego de \"Preguntas y Respuestas de Geografía\":\n",
    "-\tEl juego va a constar de 10 preguntas aleatorias.\n",
    "\n",
    "-\tCada pregunta tendrá tres opciones de respuesta (a, b, c).\n",
    "\n",
    "-\tEl jugador tendrá dos intentos por cada pregunta.\n",
    "\n",
    "-\tSi acierta (“Sigue jugando”), si falla (“Vamos descontando oportunidades”).\n",
    "\n",
    "\n",
    "PREGUNTAS\n",
    "\n",
    "1. ¿Cuál es el río más largo de la Península Ibérica?\n",
    "   - Tajo.\n",
    "2. ¿Cuál es el país más pequeño del mundo?\n",
    "   - El Vaticano.\n",
    "3. ¿Cuántos océanos hay en la Tierra?\n",
    "   - Cinco.\n",
    "4. ¿Qué país tiene más habitantes?\n",
    "   - China.\n",
    "5. ¿Qué país es el más grande del mundo?\n",
    "   - Rusia.\n",
    "6. ¿Cuál es la montaña más alta del mundo?\n",
    "   - Everest.\n",
    "7. ¿Cuál es el río más largo del mundo?\n",
    "   - Nilo.\n",
    "8. ¿De dónde provienen los osos polares?\n",
    "   - Del Polo Norte.\n",
    "9. ¿Dónde podemos ver las auroras boreales?\n",
    "   - Finlandia.\n",
    "1. ¿Cuál es la capital de España?\n",
    "   - Madrid."
   ]
  }
 ],
 "metadata": {
  "language_info": {
   "name": "python"
  }
 },
 "nbformat": 4,
 "nbformat_minor": 2
}
