{
 "cells": [
  {
   "cell_type": "markdown",
   "metadata": {},
   "source": [
    "Testing the repos and the push/pull functions"
   ]
  },
  {
   "cell_type": "code",
   "execution_count": 9,
   "metadata": {},
   "outputs": [
    {
     "name": "stdout",
     "output_type": "stream",
     "text": [
      "Hola, mi nombre es María\n",
      "Tengo 25 años\n"
     ]
    }
   ],
   "source": [
    "class Persona:\n",
    "    def __init__(self, nombre, edad):\n",
    "        self.nombre = nombre \n",
    "        self.edad = edad\n",
    "    \n",
    "    def saludar(self):\n",
    "        print(\"Hola, mi nombre es\", self.nombre)\n",
    "        print(\"Tengo\", self.edad, \"años\")\n",
    "\n",
    "persona1 = Persona(\"María\", 25)\n",
    "persona1.saludar()\n",
    "\n"
   ]
  },
  {
   "cell_type": "code",
   "execution_count": 11,
   "metadata": {},
   "outputs": [
    {
     "name": "stdout",
     "output_type": "stream",
     "text": [
      "Hola, mi nombre es María\n",
      "Tengo 25 años\n",
      "me llamo María y tengo 25\n",
      "\n",
      "Hola, mi nombre es Nuria\n",
      "Tengo 38 años\n",
      "me llamo Nuria y tengo 38\n"
     ]
    }
   ],
   "source": [
    "class Persona:\n",
    "    def __init__(self, nombre, edad):\n",
    "        self.nombre = nombre \n",
    "        self.edad = edad\n",
    "    \n",
    "    def saludar(self):\n",
    "        print(\"Hola, mi nombre es\", self.nombre)\n",
    "        print(\"Tengo\", self.edad, \"años\")\n",
    "\n",
    "    def info(self):\n",
    "        print(f'me llamo {self.nombre} y tengo {self.edad}')\n",
    "\n",
    "persona1 = Persona(\"María\", 25)\n",
    "persona1.saludar()\n",
    "persona1.info()\n",
    "print()\n",
    "persona2 = Persona('Nuria',38)\n",
    "persona2.saludar()\n",
    "persona2.info()"
   ]
  },
  {
   "cell_type": "code",
   "execution_count": null,
   "metadata": {},
   "outputs": [],
   "source": [
    "def contar (*arg):\n",
    "    for frase in arg\n",
    "\n",
    "    \n",
    "    return new_list"
   ]
  },
  {
   "cell_type": "code",
   "execution_count": 14,
   "metadata": {},
   "outputs": [
    {
     "name": "stdout",
     "output_type": "stream",
     "text": [
      "False\n",
      "None\n"
     ]
    }
   ],
   "source": [
    "def cadena_palindromo (palindromo):\n",
    "    palindromo = list(palindromo)\n",
    "    cadena = palindromo.reverse()\n",
    "    if cadena == palindromo:\n",
    "        print (True)\n",
    "    else:\n",
    "        print (False)\n",
    "\n",
    "print(cadena_palindromo(\"amar\"))"
   ]
  },
  {
   "cell_type": "code",
   "execution_count": 6,
   "metadata": {},
   "outputs": [
    {
     "name": "stdout",
     "output_type": "stream",
     "text": [
      "False\n"
     ]
    }
   ],
   "source": [
    "def es_palidromo (palabra):\n",
    "    nueva_palabra = list(palabra)\n",
    "    nueva_palabra.reverse()\n",
    "    lista_palabra = list(palabra)\n",
    "\n",
    "    if nueva_palabra == lista_palabra:\n",
    "        resultado = True\n",
    "\n",
    "    else:\n",
    "        resultado = False\n",
    "\n",
    "    return resultado\n",
    "\n",
    "print(es_palidromo('rama'))"
   ]
  },
  {
   "cell_type": "code",
   "execution_count": 25,
   "metadata": {},
   "outputs": [
    {
     "name": "stdout",
     "output_type": "stream",
     "text": [
      "False\n"
     ]
    }
   ],
   "source": [
    "def es_anagrama (palabra1, palabra2):\n",
    "\n",
    "    if len(palabra1)== len(palabra2):\n",
    "        \n",
    "        lista_palabra1=list(palabra1)\n",
    "        lista_palabra2=list(palabra2)\n",
    "\n",
    "        for letra in lista_palabra1:\n",
    "            \n",
    "            if letra not in lista_palabra2:\n",
    "                \n",
    "                resultado = False\n",
    "                break\n",
    "            \n",
    "            else:\n",
    "                resultado = True\n",
    "          \n",
    "    else:\n",
    "        resultado = False\n",
    "\n",
    "    return resultado\n",
    "\n",
    "anagrama = es_anagrama('rocas','amor')\n",
    "print(anagrama)"
   ]
  },
  {
   "cell_type": "code",
   "execution_count": 13,
   "metadata": {},
   "outputs": [
    {
     "name": "stdout",
     "output_type": "stream",
     "text": [
      "['h', 'o', 'l', 'a']\n"
     ]
    }
   ],
   "source": [
    "palabra = 'hola'\n",
    "lista = list(palabra)\n",
    "\n",
    "print(lista)"
   ]
  },
  {
   "cell_type": "code",
   "execution_count": 1,
   "metadata": {},
   "outputs": [
    {
     "ename": "KeyboardInterrupt",
     "evalue": "Interrupted by user",
     "output_type": "error",
     "traceback": [
      "\u001b[0;31m---------------------------------------------------------------------------\u001b[0m",
      "\u001b[0;31mKeyboardInterrupt\u001b[0m                         Traceback (most recent call last)",
      "\u001b[0;32m/var/folders/g3/22l1jqy501nblpbhtydz9b0w0000gn/T/ipykernel_9761/3542026091.py\u001b[0m in \u001b[0;36m<module>\u001b[0;34m\u001b[0m\n\u001b[0;32m----> 1\u001b[0;31m \u001b[0minput\u001b[0m\u001b[0;34m(\u001b[0m\u001b[0;34m'hola \\n esto \\n funciona \\n ?'\u001b[0m\u001b[0;34m)\u001b[0m\u001b[0;34m\u001b[0m\u001b[0;34m\u001b[0m\u001b[0m\n\u001b[0m",
      "\u001b[0;32m~/opt/anaconda3/lib/python3.9/site-packages/ipykernel/kernelbase.py\u001b[0m in \u001b[0;36mraw_input\u001b[0;34m(self, prompt)\u001b[0m\n\u001b[1;32m   1004\u001b[0m                 \u001b[0;34m\"raw_input was called, but this frontend does not support input requests.\"\u001b[0m\u001b[0;34m\u001b[0m\u001b[0;34m\u001b[0m\u001b[0m\n\u001b[1;32m   1005\u001b[0m             )\n\u001b[0;32m-> 1006\u001b[0;31m         return self._input_request(\n\u001b[0m\u001b[1;32m   1007\u001b[0m             \u001b[0mstr\u001b[0m\u001b[0;34m(\u001b[0m\u001b[0mprompt\u001b[0m\u001b[0;34m)\u001b[0m\u001b[0;34m,\u001b[0m\u001b[0;34m\u001b[0m\u001b[0;34m\u001b[0m\u001b[0m\n\u001b[1;32m   1008\u001b[0m             \u001b[0mself\u001b[0m\u001b[0;34m.\u001b[0m\u001b[0m_parent_ident\u001b[0m\u001b[0;34m[\u001b[0m\u001b[0;34m\"shell\"\u001b[0m\u001b[0;34m]\u001b[0m\u001b[0;34m,\u001b[0m\u001b[0;34m\u001b[0m\u001b[0;34m\u001b[0m\u001b[0m\n",
      "\u001b[0;32m~/opt/anaconda3/lib/python3.9/site-packages/ipykernel/kernelbase.py\u001b[0m in \u001b[0;36m_input_request\u001b[0;34m(self, prompt, ident, parent, password)\u001b[0m\n\u001b[1;32m   1049\u001b[0m             \u001b[0;32mexcept\u001b[0m \u001b[0mKeyboardInterrupt\u001b[0m\u001b[0;34m:\u001b[0m\u001b[0;34m\u001b[0m\u001b[0;34m\u001b[0m\u001b[0m\n\u001b[1;32m   1050\u001b[0m                 \u001b[0;31m# re-raise KeyboardInterrupt, to truncate traceback\u001b[0m\u001b[0;34m\u001b[0m\u001b[0;34m\u001b[0m\u001b[0m\n\u001b[0;32m-> 1051\u001b[0;31m                 \u001b[0;32mraise\u001b[0m \u001b[0mKeyboardInterrupt\u001b[0m\u001b[0;34m(\u001b[0m\u001b[0;34m\"Interrupted by user\"\u001b[0m\u001b[0;34m)\u001b[0m \u001b[0;32mfrom\u001b[0m \u001b[0;32mNone\u001b[0m\u001b[0;34m\u001b[0m\u001b[0;34m\u001b[0m\u001b[0m\n\u001b[0m\u001b[1;32m   1052\u001b[0m             \u001b[0;32mexcept\u001b[0m \u001b[0mException\u001b[0m\u001b[0;34m:\u001b[0m\u001b[0;34m\u001b[0m\u001b[0;34m\u001b[0m\u001b[0m\n\u001b[1;32m   1053\u001b[0m                 \u001b[0mself\u001b[0m\u001b[0;34m.\u001b[0m\u001b[0mlog\u001b[0m\u001b[0;34m.\u001b[0m\u001b[0mwarning\u001b[0m\u001b[0;34m(\u001b[0m\u001b[0;34m\"Invalid Message:\"\u001b[0m\u001b[0;34m,\u001b[0m \u001b[0mexc_info\u001b[0m\u001b[0;34m=\u001b[0m\u001b[0;32mTrue\u001b[0m\u001b[0;34m)\u001b[0m\u001b[0;34m\u001b[0m\u001b[0;34m\u001b[0m\u001b[0m\n",
      "\u001b[0;31mKeyboardInterrupt\u001b[0m: Interrupted by user"
     ]
    }
   ],
   "source": [
    "input('hola \\n esto \\n funciona \\n ?')"
   ]
  },
  {
   "cell_type": "code",
   "execution_count": null,
   "metadata": {},
   "outputs": [],
   "source": [
    "args[-1]\n",
    "range\n",
    "for num in arg:\n"
   ]
  },
  {
   "cell_type": "code",
   "execution_count": null,
   "metadata": {},
   "outputs": [],
   "source": [
    "def es_palidromo (palabra):\n",
    "    nueva_palabra = palabra\n",
    "    nueva_palabra.reverse()\n",
    "    \n",
    "    "
   ]
  },
  {
   "cell_type": "code",
   "execution_count": 1,
   "metadata": {},
   "outputs": [
    {
     "name": "stdout",
     "output_type": "stream",
     "text": [
      "2.0\n",
      "7.5\n"
     ]
    }
   ],
   "source": [
    "def average_value (*args, añadido=1):\n",
    "    return (sum(args)/len(args))+ añadido\n",
    "\n",
    "average1 = average_value(1,2,3, añadido=0)\n",
    "\n",
    "list2 = 5,6,7,8,9,4\n",
    "average2 = average_value(*list2)\n",
    "\n",
    "print(average1)\n",
    "print(average2)"
   ]
  },
  {
   "cell_type": "code",
   "execution_count": 3,
   "metadata": {},
   "outputs": [
    {
     "name": "stdout",
     "output_type": "stream",
     "text": [
      "3.0\n"
     ]
    }
   ],
   "source": [
    "def average_value (a, b=2,**kwargs):\n",
    "    suma = sum(kwargs.values()) + a + b\n",
    "    return suma / (len(kwargs)+2)\n",
    "\n",
    "dict = {'A':1,'B':2,'C':3,'D':4}\n",
    "average = average_value(6,**dict)\n",
    "print(average)    "
   ]
  },
  {
   "cell_type": "code",
   "execution_count": null,
   "metadata": {},
   "outputs": [],
   "source": [
    "dict = {'A':1,'B':2,'C':3,'D':4}\n",
    "print (dict.values())\n",
    "\n"
   ]
  },
  {
   "cell_type": "code",
   "execution_count": 1,
   "metadata": {},
   "outputs": [
    {
     "name": "stdout",
     "output_type": "stream",
     "text": [
      "['0044', '0034']\n"
     ]
    }
   ],
   "source": [
    "import re\n",
    "texto = 'Telf: 0044 7832 986 875, Telf: 0034 638 876 667'\n",
    "patron = r'Telf: (\\d{4})'\n",
    "prefijo = re.findall(patron, texto)\n",
    "\n",
    "print(prefijo)\n"
   ]
  },
  {
   "cell_type": "code",
   "execution_count": 16,
   "metadata": {},
   "outputs": [
    {
     "name": "stdout",
     "output_type": "stream",
     "text": [
      "['how']\n"
     ]
    }
   ],
   "source": [
    "texto = 'Hello wolrd! how are you today'\n",
    "\n",
    "busqueda = re.findall(r'\\bhow\\b', texto)\n",
    "print(busqueda)"
   ]
  },
  {
   "cell_type": "code",
   "execution_count": 18,
   "metadata": {},
   "outputs": [
    {
     "data": {
      "text/plain": [
       "[{'nombre': 'silla', 'precio': 5, 'cantidad': 6},\n",
       " {'nombre': 'mesa', 'precio': 7, 'cantidad': 1}]"
      ]
     },
     "execution_count": 18,
     "metadata": {},
     "output_type": "execute_result"
    }
   ],
   "source": [
    "productos1 = [{'nombre':'silla','precio':5,'cantidad':6}, {'nombre':'mesa','precio':7,'cantidad':1}]\n",
    "\n",
    "nombre = 'silla'\n",
    "cantidad_nueva=10\n",
    "\n",
    "[producto for producto in productos1 for nombre in producto.values() if producto['nombre']== nombre ]\n"
   ]
  },
  {
   "cell_type": "code",
   "execution_count": 43,
   "metadata": {},
   "outputs": [
    {
     "ename": "SyntaxError",
     "evalue": "'return' outside function (4184300818.py, line 4)",
     "output_type": "error",
     "traceback": [
      "\u001b[0;36m  File \u001b[0;32m\"/var/folders/g3/22l1jqy501nblpbhtydz9b0w0000gn/T/ipykernel_11093/4184300818.py\"\u001b[0;36m, line \u001b[0;32m4\u001b[0m\n\u001b[0;31m    return producto['nombre']\u001b[0m\n\u001b[0m    ^\u001b[0m\n\u001b[0;31mSyntaxError\u001b[0m\u001b[0;31m:\u001b[0m 'return' outside function\n"
     ]
    }
   ],
   "source": [
    "productos1 = [{'nombre':'silla','precio':5,'cantidad':6}, {'nombre':'mesa','precio':7,'cantidad':1}]\n",
    "\n",
    "for producto in productos1:\n",
    "    return producto['nombre']\n",
    "\n"
   ]
  },
  {
   "cell_type": "code",
   "execution_count": 48,
   "metadata": {},
   "outputs": [
    {
     "data": {
      "text/plain": [
       "'Hola'"
      ]
     },
     "execution_count": 48,
     "metadata": {},
     "output_type": "execute_result"
    }
   ],
   "source": [
    "palabra= 'holA'.capitalize()\n",
    "palabra"
   ]
  },
  {
   "cell_type": "code",
   "execution_count": 50,
   "metadata": {},
   "outputs": [
    {
     "data": {
      "text/plain": [
       "[1, 2, 3, {'key': 'value'}]"
      ]
     },
     "execution_count": 50,
     "metadata": {},
     "output_type": "execute_result"
    }
   ],
   "source": [
    "productos1 = [{'nombre':'silla','precio':5,'cantidad':6}, {'nombre':'mesa','precio':7,'cantidad':1}]\n",
    "\n",
    "producto = [1,2,3]\n",
    "\n",
    "producto.append({'key':'value'})\n",
    "\n",
    "producto\n"
   ]
  },
  {
   "cell_type": "code",
   "execution_count": null,
   "metadata": {},
   "outputs": [],
   "source": []
  },
  {
   "cell_type": "code",
   "execution_count": null,
   "metadata": {},
   "outputs": [],
   "source": []
  },
  {
   "cell_type": "code",
   "execution_count": 29,
   "metadata": {},
   "outputs": [
    {
     "name": "stdout",
     "output_type": "stream",
     "text": [
      "silla\n"
     ]
    }
   ],
   "source": [
    "producto = {'nombre':'silla','precio':5,'cantidad':6}\n",
    "print(producto['nombre'])"
   ]
  },
  {
   "cell_type": "code",
   "execution_count": 2,
   "metadata": {},
   "outputs": [
    {
     "data": {
      "text/plain": [
       "'Hola'"
      ]
     },
     "execution_count": 2,
     "metadata": {},
     "output_type": "execute_result"
    }
   ],
   "source": [
    "nombre='hola'\n",
    "nombre=nombre.capitalize()\n",
    "nombre"
   ]
  },
  {
   "cell_type": "code",
   "execution_count": 1,
   "metadata": {},
   "outputs": [
    {
     "ename": "ModuleNotFoundError",
     "evalue": "No module named 'msvcrt'",
     "output_type": "error",
     "traceback": [
      "\u001b[0;31m---------------------------------------------------------------------------\u001b[0m",
      "\u001b[0;31mModuleNotFoundError\u001b[0m                       Traceback (most recent call last)",
      "\u001b[0;32m/var/folders/g3/22l1jqy501nblpbhtydz9b0w0000gn/T/ipykernel_4001/290848426.py\u001b[0m in \u001b[0;36m<module>\u001b[0;34m\u001b[0m\n\u001b[0;32m----> 1\u001b[0;31m \u001b[0;32mimport\u001b[0m \u001b[0mmsvcrt\u001b[0m \u001b[0;32mas\u001b[0m \u001b[0mm\u001b[0m\u001b[0;34m\u001b[0m\u001b[0;34m\u001b[0m\u001b[0m\n\u001b[0m\u001b[1;32m      2\u001b[0m \u001b[0;32mdef\u001b[0m \u001b[0mwait\u001b[0m\u001b[0;34m(\u001b[0m\u001b[0;34m)\u001b[0m\u001b[0;34m:\u001b[0m\u001b[0;34m\u001b[0m\u001b[0;34m\u001b[0m\u001b[0m\n\u001b[1;32m      3\u001b[0m     \u001b[0mm\u001b[0m\u001b[0;34m.\u001b[0m\u001b[0mgetch\u001b[0m\u001b[0;34m(\u001b[0m\u001b[0;34m)\u001b[0m\u001b[0;34m\u001b[0m\u001b[0;34m\u001b[0m\u001b[0m\n\u001b[1;32m      4\u001b[0m \u001b[0;34m\u001b[0m\u001b[0m\n",
      "\u001b[0;31mModuleNotFoundError\u001b[0m: No module named 'msvcrt'"
     ]
    }
   ],
   "source": [
    "import msvcrt as m\n",
    "def wait():\n",
    "    m.getch()\n",
    "    "
   ]
  }
 ],
 "metadata": {
  "kernelspec": {
   "display_name": "base",
   "language": "python",
   "name": "python3"
  },
  "language_info": {
   "codemirror_mode": {
    "name": "ipython",
    "version": 3
   },
   "file_extension": ".py",
   "mimetype": "text/x-python",
   "name": "python",
   "nbconvert_exporter": "python",
   "pygments_lexer": "ipython3",
   "version": "3.9.7"
  }
 },
 "nbformat": 4,
 "nbformat_minor": 2
}
