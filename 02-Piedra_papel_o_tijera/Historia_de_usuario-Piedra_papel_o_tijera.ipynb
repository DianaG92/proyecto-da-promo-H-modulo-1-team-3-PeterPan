# PIEDRA, PAPEL O TIJERA

## DESCRIPCIÓN:
- Dos jugadores eligen una de las tres opciones: "Piedra", "Papel" o "Tijera"
- Se obtiene un punto por cada ronda ganada.
- Gana el jugador que consiga 3 puntos.

## REGLAS DEL JUEGO:
- Piedra vence a Tijera.
- Tijera vence a Papel.
- Papel vence a piedra

## CRITERIOS DE ACEPTACIÓN:
- El segundo jugador debe de ser la computadora, utilizando el módulo random para la elección de la opción a jugar.
- Determina el ganador de cada ronda y actualiza los puntos correspondientes.
- Finaliza el juego cuando un jugador consiga 3 puntos.

